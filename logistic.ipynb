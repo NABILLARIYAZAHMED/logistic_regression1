{
 "cells": [
  {
   "cell_type": "code",
   "execution_count": 81,
   "metadata": {},
   "outputs": [],
   "source": [
    "from numpy import *\n",
    "import matplotlib.pyplot as plt\n",
    "import matplotlib.image as mpimg\n",
    "data = genfromtxt('ex2data.csv', delimiter=',')\n"
   ]
  },
  {
   "cell_type": "code",
   "execution_count": 82,
   "metadata": {
    "collapsed": true,
    "scrolled": true
   },
   "outputs": [],
   "source": [
    "y_original=[]\n",
    "x0_original=[]\n",
    "x1_original=[]"
   ]
  },
  {
   "cell_type": "code",
   "execution_count": 83,
   "metadata": {
    "collapsed": true
   },
   "outputs": [],
   "source": [
    "for i in range(0,len(data)):\n",
    "    y_original.append(data[i,1])\n",
    "    x1_original.append(data[i,0])\n",
    "   \n",
    "    x0_original.append(1)"
   ]
  },
  {
   "cell_type": "code",
   "execution_count": 84,
   "metadata": {
    "scrolled": true
   },
   "outputs": [
    {
     "name": "stdout",
     "output_type": "stream",
     "text": [
      "(100, 2)\n",
      "(100,)\n"
     ]
    }
   ],
   "source": [
    "Y=np.array(y_original)\n",
    "X1=np.array([x0_original, x1_original])\n",
    "X=np.transpose(X1)\n",
    "print(X.shape)\n",
    "print(Y.shape)"
   ]
  },
  {
   "cell_type": "code",
   "execution_count": 85,
   "metadata": {
    "collapsed": true
   },
   "outputs": [],
   "source": [
    "B=np.matmul(np.matmul(np.linalg.inv(np.matmul(X1,X)),X1),Y)"
   ]
  },
  {
   "cell_type": "code",
   "execution_count": 86,
   "metadata": {},
   "outputs": [
    {
     "name": "stdout",
     "output_type": "stream",
     "text": [
      "0.1787938934837164\n"
     ]
    }
   ],
   "source": [
    "E= Y-np.matmul(X,B)\n",
    "#print(E)\n",
    "error=0\n",
    "for i in range(0, len(data)):\n",
    "    error+=E[i]**2\n",
    "print((float)(error/(len(data)-1)))"
   ]
  },
  {
   "cell_type": "code",
   "execution_count": 87,
   "metadata": {},
   "outputs": [],
   "source": [
    "y_predict=[]\n",
    "for i in range(0,len(data)):\n",
    "    y_predict.append(B[0]+x1_original[i]*B[1])"
   ]
  },
  {
   "cell_type": "code",
   "execution_count": 88,
   "metadata": {
    "collapsed": true
   },
   "outputs": [],
   "source": [
    "eqn=[]\n",
    "eqn=1/(1+np.exp(-np.array(y_predict)))"
   ]
  },
  {
   "cell_type": "code",
   "execution_count": 89,
   "metadata": {},
   "outputs": [
    {
     "name": "stdout",
     "output_type": "stream",
     "text": [
      "[ 0.68140036  0.57369035  0.66611815  0.70529959  0.67345008  0.61432684\n",
      "  0.7332474   0.58249363  0.70842737  0.57248943  0.55476952  0.52909116\n",
      "  0.67683689  0.73644053  0.67551377  0.71341189  0.6027642   0.58290478\n",
      "  0.72362344  0.58586341  0.57017904  0.64434268  0.59007224  0.57473423\n",
      "  0.65415069  0.65716053  0.57676378  0.55669791  0.59466209  0.64183867\n",
      "  0.66583336  0.61668999  0.63598865  0.65556354  0.6608615   0.60105142\n",
      "  0.73946122  0.68983646  0.56596565  0.67313161  0.61430007  0.58349118\n",
      "  0.64362549  0.56277795  0.58007744  0.60055365  0.65869947  0.70648117\n",
      "  0.73393026  0.71199142  0.66991401  0.62927346  0.57201497  0.62736289\n",
      "  0.59318371  0.62549697  0.65381038  0.73081662  0.65676318  0.68266287\n",
      "  0.70374933  0.58403285  0.55824103  0.5924905   0.64636434  0.56435999\n",
      "  0.73595676  0.59997459  0.72141613  0.62924928  0.5717377   0.68142098\n",
      "  0.73249312  0.66669996  0.67498283  0.66450725  0.71137746  0.67483812\n",
      "  0.56908077  0.56978457  0.65669958  0.57965284  0.64679634  0.62455951\n",
      "  0.71825174  0.70328037  0.68381222  0.71677808  0.73360834  0.62854632\n",
      "  0.67884412  0.70867467  0.5458524   0.70115384  0.57854105  0.58850996\n",
      "  0.70753852  0.6535456   0.64163973  0.714306  ]\n"
     ]
    }
   ],
   "source": [
    "print(eqn)"
   ]
  },
  {
   "cell_type": "code",
   "execution_count": 90,
   "metadata": {
    "scrolled": true
   },
   "outputs": [
    {
     "data": {
      "image/png": "[encoded data removed]",
      "text/plain": [
       "<matplotlib.figure.Figure at 0x910b438>"
      ]
     },
     "metadata": {},
     "output_type": "display_data"
    }
   ],
   "source": [
    "from mpl_toolkits.mplot3d import axes3d\n",
    "import matplotlib.pyplot as plt\n",
    "import numpy as np\n",
    "plt.scatter(x1_original,y_original)\n",
    "plt.plot(x1_original,eqn, c='cyan')\n",
    "plt.show()"
   ]
  },
  {
   "cell_type": "code",
   "execution_count": null,
   "metadata": {
    "collapsed": true
   },
   "outputs": [],
   "source": []
  },
  {
   "cell_type": "code",
   "execution_count": null,
   "metadata": {
    "collapsed": true
   },
   "outputs": [],
   "source": []
  }
 ],
 "metadata": {
  "kernelspec": {
   "display_name": "Python 3",
   "language": "python",
   "name": "python3"
  },
  "language_info": {
   "codemirror_mode": {
    "name": "ipython",
    "version": 3
   },
   "file_extension": ".py",
   "mimetype": "text/x-python",
   "name": "python",
   "nbconvert_exporter": "python",
   "pygments_lexer": "ipython3",
   "version": "3.6.1"
  }
 },
 "nbformat": 4,
 "nbformat_minor": 2
}
